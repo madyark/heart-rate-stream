{
 "cells": [
  {
   "cell_type": "code",
   "execution_count": 57,
   "metadata": {},
   "outputs": [],
   "source": [
    "import random\n",
    "import pandas as pd"
   ]
  },
  {
   "cell_type": "code",
   "execution_count": 68,
   "metadata": {},
   "outputs": [
    {
     "name": "stdout",
     "output_type": "stream",
     "text": [
      "User ID: 10636\n",
      "Activity ID: 2671\n",
      "Activity Name: Elliptical\n",
      "\n",
      "User ID: 10539\n",
      "Activity ID: 2214\n",
      "Activity Name: Run\n",
      "\n",
      "User ID: 10138\n",
      "Activity ID: 2827\n",
      "Activity Name: Wheelchair\n",
      "\n",
      "User ID: 10053\n",
      "Activity ID: 2889\n",
      "Activity Name: Multisport\n",
      "\n",
      "User ID: 10966\n",
      "Activity ID: 2157\n",
      "Activity Name: Stair Stepper\n",
      "\n"
     ]
    }
   ],
   "source": [
    "def read_csv_file(file_path):\n",
    "    \"\"\"Load CSV file into a pandas DataFrame\"\"\"\n",
    "    df = pd.read_csv(file_path)\n",
    "    return df\n",
    "\n",
    "activities_csv_path = 'faker/data/activities.csv'\n",
    "users_csv_path = 'faker/data/users.csv'\n",
    "\n",
    "activities_df = read_csv_file(activities_csv_path)\n",
    "users_df = read_csv_file(users_csv_path)\n",
    "\n",
    "for i in range(5):\n",
    "    random_id1 = random.choice(activities_df['activity_id'])\n",
    "    random_id2 = random.choice(users_df['userid'])\n",
    "    name1 = activities_df.loc[activities_df['activity_id'] == random_id1, 'activity_name'].iloc[0]\n",
    "\n",
    "    print(f\"User ID: {random_id2}\\nActivity ID: {random_id1}\\nActivity Name: {name1}\\n\")"
   ]
  },
  {
   "cell_type": "code",
   "execution_count": null,
   "metadata": {},
   "outputs": [],
   "source": []
  }
 ],
 "metadata": {
  "kernelspec": {
   "display_name": "streaming-project",
   "language": "python",
   "name": "python3"
  },
  "language_info": {
   "codemirror_mode": {
    "name": "ipython",
    "version": 3
   },
   "file_extension": ".py",
   "mimetype": "text/x-python",
   "name": "python",
   "nbconvert_exporter": "python",
   "pygments_lexer": "ipython3",
   "version": "3.11.8"
  }
 },
 "nbformat": 4,
 "nbformat_minor": 2
}
