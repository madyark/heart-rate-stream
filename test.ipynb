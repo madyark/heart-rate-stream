{
 "cells": [
  {
   "cell_type": "code",
   "execution_count": 40,
   "metadata": {},
   "outputs": [],
   "source": [
    "from confluent_kafka import Producer\n",
    "import random\n",
    "import pandas as pd\n",
    "import time\n",
    "from faker import Faker\n",
    "import os\n",
    "import json\n",
    "import sys\n",
    "\n",
    "def read_config():\n",
    "    \"\"\"Reads the client configuration from client.properties and returns it as a key-value map\"\"\"\n",
    "    config = {}\n",
    "    with open(\"client.properties\") as fh:\n",
    "        for line in fh:\n",
    "            line = line.strip()\n",
    "            if len(line) != 0 and line[0] != \"#\":\n",
    "                parameter, value = line.strip().split('=', 1)\n",
    "                config[parameter] = value.strip()\n",
    "    return config\n",
    "\n",
    "def delivery_callback(err, msg):\n",
    "    if err:\n",
    "        sys.stderr.write('%% Message failed delivery: %s\\n' % err)\n",
    "    else:\n",
    "        sys.stderr.write('%% Message delivered to %s [%d] @ %d\\n' %\n",
    "                            (msg.topic(), msg.partition(), msg.offset()))\n",
    "\n",
    "def read_csv_file(file_path: str) -> pd.DataFrame:\n",
    "    \"\"\"Load CSV file into a pandas DataFrame\"\"\"\n",
    "    return pd.read_csv(file_path)"
   ]
  },
  {
   "cell_type": "code",
   "execution_count": null,
   "metadata": {},
   "outputs": [],
   "source": []
  }
 ],
 "metadata": {
  "kernelspec": {
   "display_name": "streaming-project",
   "language": "python",
   "name": "python3"
  },
  "language_info": {
   "codemirror_mode": {
    "name": "ipython",
    "version": 3
   },
   "file_extension": ".py",
   "mimetype": "text/x-python",
   "name": "python",
   "nbconvert_exporter": "python",
   "pygments_lexer": "ipython3",
   "version": "3.11.8"
  }
 },
 "nbformat": 4,
 "nbformat_minor": 2
}
