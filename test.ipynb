{
 "cells": [
  {
   "cell_type": "code",
   "execution_count": 1,
   "metadata": {},
   "outputs": [],
   "source": [
    "import random\n",
    "import pandas as pd\n",
    "import time\n",
    "from faker import Faker"
   ]
  },
  {
   "cell_type": "code",
   "execution_count": 6,
   "metadata": {},
   "outputs": [],
   "source": [
    "def read_csv_file(file_path: str) -> pd.DataFrame:\n",
    "    \"\"\"Load CSV file into a pandas DataFrame\"\"\"\n",
    "    return pd.read_csv(file_path)\n",
    "\n",
    "activities_csv_path = 'mock-data/static/data/activities.csv'\n",
    "users_csv_path = 'mock-data/static/data/users.csv'\n",
    "\n",
    "activities_df = read_csv_file(activities_csv_path)\n",
    "users_df = read_csv_file(users_csv_path)\n",
    "\n",
    "# Create Faker instance\n",
    "fake = Faker()\n"
   ]
  },
  {
   "cell_type": "code",
   "execution_count": 9,
   "metadata": {},
   "outputs": [
    {
     "name": "stdout",
     "output_type": "stream",
     "text": [
      "user_id: 11680\n",
      "heart_rate: 117\n",
      "timestamp: 1712138897\n",
      "meta: \n",
      "\tactivity_id: 2157\n",
      "\tactivity_name: Stair Stepper\n",
      "\tlocation: DK\n",
      "\t\tlatitude:55.67938\n",
      "\t\tlongitude:12.53463\n",
      "\n",
      "user_id: 10173\n",
      "heart_rate: 126\n",
      "timestamp: 1712138897\n",
      "meta: \n",
      "\tactivity_id: 2508\n",
      "\tactivity_name: Dance\n",
      "\tlocation: BR\n",
      "\t\tlatitude:-21.205\n",
      "\t\tlongitude:-41.88778\n",
      "\n"
     ]
    }
   ],
   "source": [
    "for i in range(2):\n",
    "\n",
    "    user_id = random.choice(users_df['userid'])\n",
    "    user_country = users_df.loc[users_df['userid'] == user_id, 'address_country'].iloc[0]\n",
    "    activity_id = random.choice(activities_df['activity_id'])\n",
    "    activity_name = activities_df.loc[activities_df['activity_id'] == activity_id, 'activity_name'].iloc[0]\n",
    "\n",
    "    if activity_name in [\"Stand\", \"Sit\", \"Sleep\"]:\n",
    "        heart_rate = random.randint(40, 80)\n",
    "    elif activity_name in [\"Run\", \"HIIT\", \"Swimming\", \"Kickboxing\", \"Multisport\"]:\n",
    "        heart_rate = random.randint(130, 205)\n",
    "    else:\n",
    "        heart_rate = random.randint(70, 150)\n",
    "\n",
    "    current_epoch_time = int(time.time())\n",
    "    \n",
    "    latlng = fake.local_latlng(country_code=user_country)\n",
    "\n",
    "    print(f\"user_id: {user_id}\\nheart_rate: {heart_rate}\\ntimestamp: {current_epoch_time}\\nmeta: \\n\\tactivity_id: {activity_id}\\n\\tactivity_name: {activity_name}\\n\\tlocation: {user_country}\\n\\t\\tlatitude:{latlng[0]}\\n\\t\\tlongitude:{latlng[1]}\\n\")"
   ]
  }
 ],
 "metadata": {
  "kernelspec": {
   "display_name": "streaming-project",
   "language": "python",
   "name": "python3"
  },
  "language_info": {
   "codemirror_mode": {
    "name": "ipython",
    "version": 3
   },
   "file_extension": ".py",
   "mimetype": "text/x-python",
   "name": "python",
   "nbconvert_exporter": "python",
   "pygments_lexer": "ipython3",
   "version": "3.11.8"
  }
 },
 "nbformat": 4,
 "nbformat_minor": 2
}
