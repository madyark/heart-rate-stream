{
 "cells": [
  {
   "cell_type": "code",
   "execution_count": 8,
   "metadata": {},
   "outputs": [
    {
     "name": "stdout",
     "output_type": "stream",
     "text": [
      "en_CA: Dr. Eric Cortez MD\n"
     ]
    }
   ],
   "source": [
    "from faker import Faker\n",
    "\n",
    "locales = [\n",
    "    'en_CA'\n",
    "]\n",
    "\n",
    "# Generate fake names for all locales\n",
    "for locale in locales:\n",
    "    fake = Faker(locale)\n",
    "    fake_name = fake.name()\n",
    "    print(f\"{locale}: {fake_name}\")\n"
   ]
  },
  {
   "cell_type": "code",
   "execution_count": null,
   "metadata": {},
   "outputs": [],
   "source": []
  }
 ],
 "metadata": {
  "kernelspec": {
   "display_name": "streaming-project",
   "language": "python",
   "name": "python3"
  },
  "language_info": {
   "codemirror_mode": {
    "name": "ipython",
    "version": 3
   },
   "file_extension": ".py",
   "mimetype": "text/x-python",
   "name": "python",
   "nbconvert_exporter": "python",
   "pygments_lexer": "ipython3",
   "version": "3.11.8"
  }
 },
 "nbformat": 4,
 "nbformat_minor": 2
}
